{
  "nbformat": 4,
  "nbformat_minor": 0,
  "metadata": {
    "colab": {
      "provenance": [],
      "toc_visible": true,
      "authorship_tag": "ABX9TyOLZk0ADkF7EkdR1+8p/xhD",
      "include_colab_link": true
    },
    "kernelspec": {
      "name": "python3",
      "display_name": "Python 3"
    },
    "language_info": {
      "name": "python"
    }
  },
  "cells": [
    {
      "cell_type": "markdown",
      "metadata": {
        "id": "view-in-github",
        "colab_type": "text"
      },
      "source": [
        "<a href=\"https://colab.research.google.com/github/codingbhaiya-data/Coffee-Quality-Report/blob/main/Big_mart_sales_prediction.ipynb\" target=\"_parent\"><img src=\"https://colab.research.google.com/assets/colab-badge.svg\" alt=\"Open In Colab\"/></a>"
      ]
    },
    {
      "cell_type": "markdown",
      "source": [
        "# **🛒📊💻📈💵 Big Mart Sales Prediction Datasets By Rohit Raut**"
      ],
      "metadata": {
        "id": "9eqAY5xoKGPf"
      }
    },
    {
      "cell_type": "markdown",
      "source": [
        "1.Introduction"
      ],
      "metadata": {
        "id": "f9kzWjE5KRpe"
      }
    },
    {
      "cell_type": "markdown",
      "source": [
        "\n",
        "In this notebook, we aim to predict the sales of products across different BigMart outlets. Using historical sales data and various product and outlet attributes, we will build a regression model to make predictions. The model's performance will be evaluated using Root Mean Squared Error (RMSE).."
      ],
      "metadata": {
        "id": "EzUVJ6aNKaOB"
      }
    },
    {
      "cell_type": "markdown",
      "source": [
        "Importing Libraries"
      ],
      "metadata": {
        "id": "vASjI814KxyT"
      }
    },
    {
      "cell_type": "code",
      "source": [
        "import pandas as pd\n",
        "import numpy as np\n",
        "import matplotlib.pyplot as plt\n",
        "import seaborn as sns\n",
        "import warnings"
      ],
      "metadata": {
        "id": "G_W4B7QzKRDF"
      },
      "execution_count": null,
      "outputs": []
    },
    {
      "cell_type": "code",
      "execution_count": null,
      "metadata": {
        "id": "zGOOH3E_J9z4"
      },
      "outputs": [],
      "source": [
        "warnings.filterwarnings('ignore')"
      ]
    },
    {
      "cell_type": "code",
      "source": [
        "train_data = pd.read_csv('Train.csv')\n",
        "test_data = pd.read_csv('Test.csv')"
      ],
      "metadata": {
        "id": "aiqWrOsxM_yr"
      },
      "execution_count": null,
      "outputs": []
    },
    {
      "cell_type": "code",
      "source": [
        "train_data.sample(5)"
      ],
      "metadata": {
        "id": "vH0SIkbmPsi9"
      },
      "execution_count": null,
      "outputs": []
    },
    {
      "cell_type": "code",
      "source": [
        "test_data.sample(5)"
      ],
      "metadata": {
        "id": "sR1iEXYIPzRw"
      },
      "execution_count": null,
      "outputs": []
    },
    {
      "cell_type": "markdown",
      "source": [
        "Find the Shape of our Dataset"
      ],
      "metadata": {
        "id": "Uk3gxwjYRS0t"
      }
    },
    {
      "cell_type": "code",
      "source": [
        "train_data.shape"
      ],
      "metadata": {
        "id": "Hqw4HpIgQCOe"
      },
      "execution_count": null,
      "outputs": []
    },
    {
      "cell_type": "code",
      "source": [
        "test_data.shape"
      ],
      "metadata": {
        "id": "trUPaVC9Riiu"
      },
      "execution_count": null,
      "outputs": []
    },
    {
      "cell_type": "markdown",
      "source": [
        "Getting more Information about the dataset"
      ],
      "metadata": {
        "id": "P3oDcHdxRnMR"
      }
    },
    {
      "cell_type": "code",
      "source": [
        "train_data.describe()"
      ],
      "metadata": {
        "id": "lunZ3D1RRlRT"
      },
      "execution_count": null,
      "outputs": []
    },
    {
      "cell_type": "code",
      "source": [
        "test_data.describe()"
      ],
      "metadata": {
        "id": "pBdAxrhSR24_"
      },
      "execution_count": null,
      "outputs": []
    },
    {
      "cell_type": "markdown",
      "source": [
        "# Checking null values in dataset"
      ],
      "metadata": {
        "id": "olhHmyosSPyS"
      }
    },
    {
      "cell_type": "code",
      "source": [
        "train_data.isnull().sum()"
      ],
      "metadata": {
        "id": "HuspXPmOR7Zs"
      },
      "execution_count": null,
      "outputs": []
    },
    {
      "cell_type": "code",
      "source": [
        "test_data.isnull().sum()"
      ],
      "metadata": {
        "id": "nk5KZb7XSjMs"
      },
      "execution_count": null,
      "outputs": []
    },
    {
      "cell_type": "code",
      "source": [
        "per_null_train = train_data.isnull().sum()/train_data.shape[0]*100\n",
        "per_null_train"
      ],
      "metadata": {
        "id": "Pu3f2YhYSoCj"
      },
      "execution_count": null,
      "outputs": []
    },
    {
      "cell_type": "code",
      "source": [
        "per_null_test = test_data.isnull().sum()/test_data.shape[0]*100\n",
        "per_null_test"
      ],
      "metadata": {
        "id": "-GFAvMhDS5OF"
      },
      "execution_count": null,
      "outputs": []
    },
    {
      "cell_type": "markdown",
      "source": [
        "As missing value percentage of both the datasets exceeding 5% threshold. We can't drop null value"
      ],
      "metadata": {
        "id": "vFu-OC1pTFUJ"
      }
    },
    {
      "cell_type": "markdown",
      "source": [
        "# Checking Duplicate values"
      ],
      "metadata": {
        "id": "956v7WNcTZ2d"
      }
    },
    {
      "cell_type": "code",
      "source": [
        "train_data.duplicated().sum()"
      ],
      "metadata": {
        "id": "JXkzfa-yTBIa"
      },
      "execution_count": null,
      "outputs": []
    },
    {
      "cell_type": "code",
      "source": [
        "test_data.duplicated().sum()"
      ],
      "metadata": {
        "id": "fr3K4bNLTm7a"
      },
      "execution_count": null,
      "outputs": []
    },
    {
      "cell_type": "markdown",
      "source": [
        "# Handling Missing Values"
      ],
      "metadata": {
        "id": "5tViU36DTt99"
      }
    },
    {
      "cell_type": "code",
      "source": [
        "test_data['Item_Weight'].dtype"
      ],
      "metadata": {
        "id": "d5uLQq2EUbas"
      },
      "execution_count": null,
      "outputs": []
    },
    {
      "cell_type": "code",
      "source": [
        "test_data['Outlet_Size'].dtype"
      ],
      "metadata": {
        "id": "WajOq5gRUyLs"
      },
      "execution_count": null,
      "outputs": []
    },
    {
      "cell_type": "markdown",
      "source": [
        "different approaches need to handle numerical data and catagorical data **bold text**"
      ],
      "metadata": {
        "id": "36h03POuU5_M"
      }
    },
    {
      "cell_type": "code",
      "source": [],
      "metadata": {
        "id": "7aJmSM05VJtL"
      },
      "execution_count": null,
      "outputs": []
    },
    {
      "cell_type": "markdown",
      "source": [
        "# Univariate Imputation"
      ],
      "metadata": {
        "id": "aYjgOffwVIE8"
      }
    },
    {
      "cell_type": "code",
      "source": [
        "mean_weight_train = train_data['Item_Weight'].mean()\n",
        "median_weight_train = train_data['Item_Weight'].median()\n",
        "print(mean_weight_train)\n",
        "print(median_weight_train)"
      ],
      "metadata": {
        "id": "hLhD1aueVWS6"
      },
      "execution_count": null,
      "outputs": []
    },
    {
      "cell_type": "code",
      "source": [
        "mean_weight_test = test_data['Item_Weight'].mean()\n",
        "median_weight_test = test_data['Item_Weight'].median()\n",
        "print(mean_weight_test)\n",
        "print(median_weight_test)"
      ],
      "metadata": {
        "id": "Horhl55WVdza"
      },
      "execution_count": null,
      "outputs": []
    },
    {
      "cell_type": "code",
      "source": [
        "test_data.sample(5)"
      ],
      "metadata": {
        "id": "9dRf2ifzaOMv"
      },
      "execution_count": null,
      "outputs": []
    },
    {
      "cell_type": "code",
      "source": [
        "train_data['Item_Weight_mean'] = train_data['Item_Weight'].fillna(mean_weight_train)\n",
        "train_data['Item_Weight_median'] = train_data['Item_Weight'].fillna(median_weight_train)\n",
        "test_data['Item_Weight_mean'] = test_data['Item_Weight'].fillna(mean_weight_test)\n",
        "test_data['Item_Weight_median'] = test_data['Item_Weight'].fillna(median_weight_test)"
      ],
      "metadata": {
        "id": "f50eqzBNVk4a"
      },
      "execution_count": null,
      "outputs": []
    },
    {
      "cell_type": "code",
      "source": [
        "train_data.head(3)"
      ],
      "metadata": {
        "id": "9Mt0mXTQXOzE"
      },
      "execution_count": null,
      "outputs": []
    },
    {
      "cell_type": "code",
      "source": [
        "test_data.head()"
      ],
      "metadata": {
        "id": "LVCFhec0XWWq"
      },
      "execution_count": null,
      "outputs": []
    },
    {
      "cell_type": "markdown",
      "source": [
        "Checking Variance"
      ],
      "metadata": {
        "id": "vHOEftVuX8_d"
      }
    },
    {
      "cell_type": "code",
      "source": [
        "print(\"train:Orignal Item weight variable variance\", train_data['Item_Weight'].var())\n",
        "print(\"train:Item weight variable variance after mean imputation\",train_data['Item_Weight_mean'].var())\n",
        "print(\"train:Item weight variable variance after mean imputation\",train_data['Item_Weight_median'].var())"
      ],
      "metadata": {
        "id": "o_k2jlY6Yzjt"
      },
      "execution_count": null,
      "outputs": []
    },
    {
      "cell_type": "code",
      "source": [
        "print(\"Test:Orignal Item weight variable variance\",test_data['Item_Weight'].var())\n",
        "print(\"Test:Item weight variable variance after mean imputation\",test_data['Item_Weight_mean'].var())\n",
        "print(\"Test:Item weight variable variance after mean imputation\",test_data['Item_Weight_median'].var())"
      ],
      "metadata": {
        "id": "1obMAco9XwFV"
      },
      "execution_count": null,
      "outputs": []
    },
    {
      "cell_type": "code",
      "source": [
        "train_data['Item_Weight'].plot(kind='kde', color='black',label='Orignal')\n",
        "train_data['Item_Weight_mean'].plot(kind='kde', color='red',label='Mean')\n",
        "train_data['Item_Weight_median'].plot(kind='kde', color='blue',label='Median')\n",
        "plt.title('Train dataset:Item Weight Distribution')\n",
        "plt.legend()\n",
        "plt.show()"
      ],
      "metadata": {
        "id": "qK9etrn5bEJb"
      },
      "execution_count": null,
      "outputs": []
    },
    {
      "cell_type": "code",
      "source": [
        "test_data['Item_Weight'].plot(kind='kde', color='black',label='Orignal')\n",
        "test_data['Item_Weight_mean'].plot(kind='kde', color='red',label='Mean')\n",
        "test_data['Item_Weight_median'].plot(kind='kde', color='blue',label='Median')\n",
        "plt.title('Test dataset:Item Weight Distribution')\n",
        "plt.legend()\n",
        "plt.show()"
      ],
      "metadata": {
        "id": "iNsYcY_CboLq"
      },
      "execution_count": null,
      "outputs": []
    },
    {
      "cell_type": "markdown",
      "source": [
        "The data distribution has been alter after mean and median imputation"
      ],
      "metadata": {
        "id": "vj19zaATcCql"
      }
    },
    {
      "cell_type": "code",
      "source": [
        "train_data[['Item_Weight','Item_Weight_mean','Item_Weight_median']].boxplot()"
      ],
      "metadata": {
        "id": "_YEL7iHbb_db"
      },
      "execution_count": null,
      "outputs": []
    },
    {
      "cell_type": "code",
      "source": [
        "test_data[['Item_Weight','Item_Weight_mean','Item_Weight_median']].boxplot()"
      ],
      "metadata": {
        "id": "dCsl2tF5c4JK"
      },
      "execution_count": null,
      "outputs": []
    },
    {
      "cell_type": "markdown",
      "source": [
        "After imputation :  Reduction of spread of data is obseerved(Not Desirable)"
      ],
      "metadata": {
        "id": "qWw-M-4IdRch"
      }
    },
    {
      "cell_type": "code",
      "source": [
        "train_data[\"Item_Weight_interp\"] = train_data[\"Item_Weight\"].interpolate(method='linear')"
      ],
      "metadata": {
        "id": "ED4vHtLddJeH"
      },
      "execution_count": null,
      "outputs": []
    },
    {
      "cell_type": "code",
      "source": [
        "train_data['Item_Weight'].plot(kind='kde', color='red',label='Orignal')\n",
        "train_data['Item_Weight_interp'].plot(kind='kde', color='blue',label='Median')\n",
        "plt.title('Train dataset:Item Weight Distribution')\n",
        "plt.legend()\n",
        "plt.show()"
      ],
      "metadata": {
        "id": "cBaWgSz9eoFB"
      },
      "execution_count": null,
      "outputs": []
    },
    {
      "cell_type": "code",
      "source": [
        "test_data[\"Item_Weight_interp\"] = test_data[\"Item_Weight\"].interpolate(method='linear')"
      ],
      "metadata": {
        "id": "FKYcBx72d_hO"
      },
      "execution_count": null,
      "outputs": []
    },
    {
      "cell_type": "code",
      "source": [
        "test_data['Item_Weight'].plot(kind='kde', color='black',label='Orignal')\n",
        "test_data['Item_Weight_interp'].plot(kind='kde', color='blue',label='Median')\n",
        "plt.title('Test dataset:Item Weight Distribution')\n",
        "plt.legend()\n",
        "plt.show()"
      ],
      "metadata": {
        "id": "sMlKRfNXfCjH"
      },
      "execution_count": null,
      "outputs": []
    },
    {
      "cell_type": "markdown",
      "source": [
        "Interpolation is better than mean and median"
      ],
      "metadata": {
        "id": "Tplgk9xSfPyY"
      }
    },
    {
      "cell_type": "markdown",
      "source": [
        "# Multivariate Imputation"
      ],
      "metadata": {
        "id": "yTg_IWf0fbX5"
      }
    },
    {
      "cell_type": "code",
      "source": [
        "from sklearn.experimental import enable_iterative_imputer\n",
        "from sklearn.impute import SimpleImputer\n",
        "from sklearn.impute import KNNImputer\n",
        "from sklearn.impute import MissingIndicator"
      ],
      "metadata": {
        "id": "rSsP3iDff8oM"
      },
      "execution_count": null,
      "outputs": []
    },
    {
      "cell_type": "code",
      "source": [
        "knn = KNNImputer(n_neighbors=5, weights='uniform', metric='nan_euclidean')\n",
        "si = SimpleImputer(missing_values=np.nan, strategy='mean')"
      ],
      "metadata": {
        "id": "hqpFC8aHf_Un"
      },
      "execution_count": null,
      "outputs": []
    },
    {
      "cell_type": "code",
      "source": [
        "train_data['Item_Weight_knn_imp'] = knn.fit_transform(train_data[['Item_Weight']])"
      ],
      "metadata": {
        "id": "cqCmHM-HgX1O"
      },
      "execution_count": null,
      "outputs": []
    },
    {
      "cell_type": "code",
      "source": [
        "train_data['Item_Weight_si_imp'] = si.fit_transform(train_data[['Item_Weight']])"
      ],
      "metadata": {
        "id": "vFIcqSqwgli0"
      },
      "execution_count": null,
      "outputs": []
    },
    {
      "cell_type": "code",
      "source": [
        "train_data['Item_Weight'].plot(kind='kde', color='red',label='Orignal')\n",
        "train_data['Item_Weight_knn_imp'].plot(kind='kde', color='blue',label='KNN')\n",
        "plt.title('Train dataset:Item Weight Distribution')\n",
        "plt.legend()\n",
        "plt.show()"
      ],
      "metadata": {
        "id": "USo0dr9qg3Qj"
      },
      "execution_count": null,
      "outputs": []
    },
    {
      "cell_type": "code",
      "source": [
        "train_data['Item_Weight'].plot(kind='kde', color='red',label='Orignal')\n",
        "train_data['Item_Weight_si_imp'].plot(kind='kde', color='blue',label='Simple')\n",
        "plt.title('Train dataset:Item Weight Distribution')\n",
        "plt.legend()\n",
        "plt.show()"
      ],
      "metadata": {
        "id": "0jEaftvBhTH6"
      },
      "execution_count": null,
      "outputs": []
    },
    {
      "cell_type": "markdown",
      "source": [
        "noe lets drop non valid imputed columns"
      ],
      "metadata": {
        "id": "N5kraHzvhmSt"
      }
    },
    {
      "cell_type": "code",
      "source": [
        "train_data.head(1)"
      ],
      "metadata": {
        "id": "PbYUfEqniIWm"
      },
      "execution_count": null,
      "outputs": []
    },
    {
      "cell_type": "code",
      "source": [
        "train_data = train_data.drop(columns=['Item_Weight','Item_Weight_si_imp','Item_Weight_knn_imp','Item_Weight_mean','Item_Weight_median'],axis=1)"
      ],
      "metadata": {
        "id": "7nja33wFhqmL"
      },
      "execution_count": null,
      "outputs": []
    },
    {
      "cell_type": "code",
      "source": [
        "train_data.head(1)"
      ],
      "metadata": {
        "id": "w1Zy-XczicyZ"
      },
      "execution_count": null,
      "outputs": []
    },
    {
      "cell_type": "code",
      "source": [
        "train_data.isnull().sum()"
      ],
      "metadata": {
        "id": "LuQNtOvGis9Y"
      },
      "execution_count": null,
      "outputs": []
    },
    {
      "cell_type": "markdown",
      "source": [
        "Deleting non rational imputational columns"
      ],
      "metadata": {
        "id": "BdESgUzDi-18"
      }
    },
    {
      "cell_type": "code",
      "source": [
        "test_data.head(1)"
      ],
      "metadata": {
        "id": "THJrjy-ti6ke"
      },
      "execution_count": null,
      "outputs": []
    },
    {
      "cell_type": "code",
      "source": [
        "test_data = test_data.drop(columns=['Item_Weight','Item_Weight_mean','Item_Weight_median'],axis=1)"
      ],
      "metadata": {
        "id": "LWXLMwkhji5G"
      },
      "execution_count": null,
      "outputs": []
    },
    {
      "cell_type": "code",
      "source": [
        "#hndling Missing data in Outlet_size"
      ],
      "metadata": {
        "id": "gt7EV4hGj-a0"
      },
      "execution_count": null,
      "outputs": []
    },
    {
      "cell_type": "markdown",
      "source": [
        "# Handling Missing data in Outlet_size"
      ],
      "metadata": {
        "id": "mDgdXOSQj9iJ"
      }
    },
    {
      "cell_type": "code",
      "source": [
        "a = train_data['Outlet_Size'].value_counts()\n",
        "b = train_data['Outlet_Type'].value_counts()\n",
        "print(a)\n",
        "print(b)"
      ],
      "metadata": {
        "id": "y-NZ8ZHfj0R6"
      },
      "execution_count": null,
      "outputs": []
    },
    {
      "cell_type": "code",
      "source": [
        "train_outlet_mode = train_data.pivot_table(values='Outlet_Size',columns='Outlet_Type',aggfunc= (lambda x: x.mode()[0]))"
      ],
      "metadata": {
        "id": "AXp5O_Fxlnf6"
      },
      "execution_count": null,
      "outputs": []
    },
    {
      "cell_type": "code",
      "source": [
        "train_outlet_mode"
      ],
      "metadata": {
        "id": "riRi25-Qmwjy"
      },
      "execution_count": null,
      "outputs": []
    },
    {
      "cell_type": "code",
      "source": [
        "missing_value = train_data['Outlet_Size'].isnull()"
      ],
      "metadata": {
        "id": "bt4XenPvnEQw"
      },
      "execution_count": null,
      "outputs": []
    },
    {
      "cell_type": "code",
      "source": [
        "missing_value"
      ],
      "metadata": {
        "id": "orYlqd-ynK_-"
      },
      "execution_count": null,
      "outputs": []
    },
    {
      "cell_type": "code",
      "source": [
        "train_data.loc[missing_value,'Outlet_Size'] = train_data.loc[missing_value,'Outlet_Type'].apply(lambda x: train_outlet_mode[x])"
      ],
      "metadata": {
        "id": "lCppwtTwnUcB"
      },
      "execution_count": null,
      "outputs": []
    },
    {
      "cell_type": "code",
      "source": [
        "train_data.isnull().sum()"
      ],
      "metadata": {
        "id": "3DuJH8bsnvWs"
      },
      "execution_count": null,
      "outputs": []
    },
    {
      "cell_type": "code",
      "source": [
        "c = test_data['Outlet_Size'].value_counts()\n",
        "d = test_data['Outlet_Type'].value_counts()\n",
        "print(c)\n",
        "print(d)"
      ],
      "metadata": {
        "id": "sV9rbYPbkNwK"
      },
      "execution_count": null,
      "outputs": []
    },
    {
      "cell_type": "code",
      "source": [
        "test_outlet_mode = test_data.pivot_table(values='Outlet_Size',columns='Outlet_Type',aggfunc= (lambda x: x.mode()[0]))"
      ],
      "metadata": {
        "id": "5mRQrnrEkSA6"
      },
      "execution_count": null,
      "outputs": []
    },
    {
      "cell_type": "code",
      "source": [
        "test_outlet_mode"
      ],
      "metadata": {
        "id": "6-o-1dp3ocQl"
      },
      "execution_count": null,
      "outputs": []
    },
    {
      "cell_type": "code",
      "source": [
        "missing_value = test_data['Outlet_Size'].isnull()"
      ],
      "metadata": {
        "id": "8xlGUsJkolON"
      },
      "execution_count": null,
      "outputs": []
    },
    {
      "cell_type": "code",
      "source": [
        "test_data.loc[missing_value,'Outlet_Size'] = test_data.loc[missing_value,'Outlet_Type'].apply(lambda x: train_outlet_mode[x])"
      ],
      "metadata": {
        "id": "aKa2ma6kmsdZ"
      },
      "execution_count": null,
      "outputs": []
    },
    {
      "cell_type": "code",
      "source": [
        "test_data.isnull().sum()"
      ],
      "metadata": {
        "id": "G8PQOKQnoBkr"
      },
      "execution_count": null,
      "outputs": []
    },
    {
      "cell_type": "markdown",
      "source": [
        "Item Fat Content"
      ],
      "metadata": {
        "id": "4oO0MS0Soutz"
      }
    },
    {
      "cell_type": "code",
      "source": [
        "train_data.head(2)"
      ],
      "metadata": {
        "id": "PMVqMP46oCtF"
      },
      "execution_count": null,
      "outputs": []
    },
    {
      "cell_type": "code",
      "source": [
        "train_data['Item_Fat_Content'].value_counts()"
      ],
      "metadata": {
        "id": "TrsRuxFVo4VD"
      },
      "execution_count": null,
      "outputs": []
    },
    {
      "cell_type": "code",
      "source": [
        "train_data = train_data.replace({'Item_Fat_Content': {'Low Fat':'LF','low fat' :'LF', 'Regular' : 'reg'}})"
      ],
      "metadata": {
        "id": "8WrkpDNspX6n"
      },
      "execution_count": null,
      "outputs": []
    },
    {
      "cell_type": "code",
      "source": [
        "train_data['Item_Fat_Content'].value_counts()"
      ],
      "metadata": {
        "id": "xPdDFCNeqReC"
      },
      "execution_count": null,
      "outputs": []
    },
    {
      "cell_type": "code",
      "source": [
        "test_data['Item_Fat_Content'].value_counts()"
      ],
      "metadata": {
        "id": "W9GYXuhircyF"
      },
      "execution_count": null,
      "outputs": []
    },
    {
      "cell_type": "code",
      "source": [
        "test_data = test_data.replace({'Item_Fat_Content': {'Low Fat':'LF','low fat' :'LF', 'Regular' : 'reg'}})"
      ],
      "metadata": {
        "id": "TZgH22IAsF_B"
      },
      "execution_count": null,
      "outputs": []
    },
    {
      "cell_type": "code",
      "source": [
        "test_data['Item_Fat_Content'].value_counts()"
      ],
      "metadata": {
        "id": "_UxmNEMlsKFh"
      },
      "execution_count": null,
      "outputs": []
    },
    {
      "cell_type": "markdown",
      "source": [
        "# Item Visibility"
      ],
      "metadata": {
        "id": "h95D3QcHrUye"
      }
    },
    {
      "cell_type": "code",
      "source": [
        "train_data.head(5)"
      ],
      "metadata": {
        "id": "SxktE69OqbLK"
      },
      "execution_count": null,
      "outputs": []
    },
    {
      "cell_type": "code",
      "source": [
        "train_data['Item_Visibility'].value_counts()"
      ],
      "metadata": {
        "id": "qsfLpG9isOkQ"
      },
      "execution_count": null,
      "outputs": []
    },
    {
      "cell_type": "code",
      "source": [
        "train_data['Item_Visibility_interpolate'] = train_data['Item_Visibility'].replace(0,np.nan).interpolate(method='linear')"
      ],
      "metadata": {
        "id": "dYFE3WJksbWW"
      },
      "execution_count": null,
      "outputs": []
    },
    {
      "cell_type": "code",
      "source": [
        "train_data['Item_Visibility_interpolate'].value_counts()"
      ],
      "metadata": {
        "id": "c9wKmMXttVzm"
      },
      "execution_count": null,
      "outputs": []
    },
    {
      "cell_type": "code",
      "source": [
        "train_data['Item_Visibility'].plot(kind='kde', color='red',label='Orignal')\n",
        "train_data['Item_Visibility_interpolate'].plot(kind='kde', color='blue',label='Interpolate')\n",
        "plt.title('Train dataset:Item Visibility Distribution')\n",
        "plt.legend()\n",
        "plt.show()"
      ],
      "metadata": {
        "id": "eoTH-amAtfnm"
      },
      "execution_count": null,
      "outputs": []
    },
    {
      "cell_type": "code",
      "source": [
        "train_data.drop(columns=['Item_Visibility'],axis=1,inplace=True)"
      ],
      "metadata": {
        "id": "sB_VVbrHttHS"
      },
      "execution_count": null,
      "outputs": []
    },
    {
      "cell_type": "code",
      "source": [
        "train_data.head(2)"
      ],
      "metadata": {
        "id": "hC69er-it4K1"
      },
      "execution_count": null,
      "outputs": []
    },
    {
      "cell_type": "code",
      "source": [
        "# Same for Test dataset\n",
        "test_data['Item_Visibility'].value_counts()"
      ],
      "metadata": {
        "id": "srCwEefGt76T"
      },
      "execution_count": null,
      "outputs": []
    },
    {
      "cell_type": "code",
      "source": [
        "test_data['Item_Visibility_interpolate'] = test_data['Item_Visibility'].replace(0,np.nan).interpolate(method='linear')"
      ],
      "metadata": {
        "id": "WjgxVSemuK3D"
      },
      "execution_count": null,
      "outputs": []
    },
    {
      "cell_type": "code",
      "source": [
        "test_data['Item_Visibility'].plot(kind='kde', color='red',label='Orignal')\n",
        "test_data['Item_Visibility_interpolate'].plot(kind='kde', color='blue',label='Interpolate')\n",
        "plt.title('Test dataset:Item Visibility Distribution')\n",
        "plt.legend()\n",
        "plt.show()"
      ],
      "metadata": {
        "id": "JfGUs0cTugVm"
      },
      "execution_count": null,
      "outputs": []
    },
    {
      "cell_type": "code",
      "source": [
        "test_data.drop(columns=['Item_Visibility'],axis=1,inplace=True)"
      ],
      "metadata": {
        "id": "ef9cjUuwuoDj"
      },
      "execution_count": null,
      "outputs": []
    },
    {
      "cell_type": "code",
      "source": [
        "test_data.head(2)"
      ],
      "metadata": {
        "id": "GWkQ_iCLuz--"
      },
      "execution_count": null,
      "outputs": []
    },
    {
      "cell_type": "markdown",
      "source": [
        "# Item_Type"
      ],
      "metadata": {
        "id": "_uKpLo3pu6fg"
      }
    },
    {
      "cell_type": "code",
      "source": [
        "train_data['Item_Type'].value_counts()"
      ],
      "metadata": {
        "id": "Agr65Ay9u4Um"
      },
      "execution_count": null,
      "outputs": []
    },
    {
      "cell_type": "code",
      "source": [],
      "metadata": {
        "id": "ebsPAN7OvBB7"
      },
      "execution_count": null,
      "outputs": []
    },
    {
      "cell_type": "markdown",
      "source": [
        "# Item_Identifier"
      ],
      "metadata": {
        "id": "O42fARt2vUzt"
      }
    },
    {
      "cell_type": "code",
      "source": [
        "train_data['Item_Identifier'].value_counts().sample(7)"
      ],
      "metadata": {
        "id": "SbqNVr7AvbRy"
      },
      "execution_count": null,
      "outputs": []
    },
    {
      "cell_type": "markdown",
      "source": [
        "FD = Food & Drinks\n",
        "NC = Non-Consumables"
      ],
      "metadata": {
        "id": "CeDQLCOQv5Hd"
      }
    },
    {
      "cell_type": "code",
      "source": [
        "train_data['Item_Identifier'] = train_data['Item_Identifier'].apply(lambda x: x[0:2])"
      ],
      "metadata": {
        "id": "WoeVUSCTvgYB"
      },
      "execution_count": null,
      "outputs": []
    },
    {
      "cell_type": "code",
      "source": [
        "train_data['Item_Identifier'].value_counts()"
      ],
      "metadata": {
        "id": "2iwB5n-BxSG-"
      },
      "execution_count": null,
      "outputs": []
    },
    {
      "cell_type": "markdown",
      "source": [
        "for testing dataset"
      ],
      "metadata": {
        "id": "yYaIcYCKyoQh"
      }
    },
    {
      "cell_type": "code",
      "source": [
        "test_data['Item_Identifier'].value_counts().sample(7)"
      ],
      "metadata": {
        "id": "0oyOJth4xqQs"
      },
      "execution_count": null,
      "outputs": []
    },
    {
      "cell_type": "code",
      "source": [
        "test_data['Item_Identifier'] = train_data['Item_Identifier'].apply(lambda x: x[0:2])"
      ],
      "metadata": {
        "id": "eySE9jFLyuBI"
      },
      "execution_count": null,
      "outputs": []
    },
    {
      "cell_type": "code",
      "source": [
        "test_data['Item_Identifier'].value_counts()"
      ],
      "metadata": {
        "id": "Zt7a2rXIywYQ"
      },
      "execution_count": null,
      "outputs": []
    },
    {
      "cell_type": "markdown",
      "source": [
        "# Outlat_Establishment_Year"
      ],
      "metadata": {
        "id": "qgpewNdvy6LM"
      }
    },
    {
      "cell_type": "code",
      "source": [
        "train_data.columns"
      ],
      "metadata": {
        "id": "fIHRlnoNzAAM"
      },
      "execution_count": null,
      "outputs": []
    },
    {
      "cell_type": "code",
      "source": [
        "train_data['Outlet_Establishment_Year']"
      ],
      "metadata": {
        "id": "ayrSI1M1zG_p"
      },
      "execution_count": null,
      "outputs": []
    },
    {
      "cell_type": "markdown",
      "source": [
        "Converting Years to age"
      ],
      "metadata": {
        "id": "n87-52UGzULJ"
      }
    },
    {
      "cell_type": "code",
      "source": [
        "import datetime as dt\n",
        "current_year = dt.datetime.today().year"
      ],
      "metadata": {
        "id": "T8M7AKGczSBi"
      },
      "execution_count": null,
      "outputs": []
    },
    {
      "cell_type": "code",
      "source": [
        "current_year"
      ],
      "metadata": {
        "id": "5KXpaloVzgWc"
      },
      "execution_count": null,
      "outputs": []
    },
    {
      "cell_type": "code",
      "source": [
        "train_data['Outlet_age'] = current_year - train_data['Outlet_Establishment_Year']"
      ],
      "metadata": {
        "id": "nuj4ULpsz2S7"
      },
      "execution_count": null,
      "outputs": []
    },
    {
      "cell_type": "code",
      "source": [
        "train_data.drop(columns=['Outlet_Establishment_Year'],axis=1,inplace=True)"
      ],
      "metadata": {
        "id": "jrWNygoL0MeR"
      },
      "execution_count": null,
      "outputs": []
    },
    {
      "cell_type": "code",
      "source": [
        "train_data.head(3)"
      ],
      "metadata": {
        "id": "cDJnDPyE0c64"
      },
      "execution_count": null,
      "outputs": []
    },
    {
      "cell_type": "markdown",
      "source": [
        "Same process for Test dataset"
      ],
      "metadata": {
        "id": "5LB8Xb0N1rcs"
      }
    },
    {
      "cell_type": "code",
      "source": [
        "test_data['Outlet_age'] = current_year - test_data['Outlet_Establishment_Year']"
      ],
      "metadata": {
        "id": "r62DA-Xd2Vw4"
      },
      "execution_count": null,
      "outputs": []
    },
    {
      "cell_type": "code",
      "source": [
        "test_data.drop(columns=['Outlet_Establishment_Year'],axis=1,inplace=True)"
      ],
      "metadata": {
        "id": "KcGEMJPc2Vjx"
      },
      "execution_count": null,
      "outputs": []
    },
    {
      "cell_type": "code",
      "source": [
        "test_data.head(3)"
      ],
      "metadata": {
        "id": "DvoIyAPZ2kWg"
      },
      "execution_count": null,
      "outputs": []
    },
    {
      "cell_type": "markdown",
      "source": [],
      "metadata": {
        "id": "xnrySvTM2VK4"
      }
    },
    {
      "cell_type": "markdown",
      "source": [
        "# Handleing Catagorical Columns\n",
        "using ordinal encoding"
      ],
      "metadata": {
        "id": "jXPtFSQI0m33"
      }
    },
    {
      "cell_type": "code",
      "source": [
        "from sklearn.preprocessing import OrdinalEncoder"
      ],
      "metadata": {
        "id": "zk-25XEb0hI1"
      },
      "execution_count": null,
      "outputs": []
    },
    {
      "cell_type": "code",
      "source": [
        "encoded_train_data = train_data.copy()\n",
        "encoded_test_data = test_data.copy()"
      ],
      "metadata": {
        "id": "TILrEMLi2ysX"
      },
      "execution_count": null,
      "outputs": []
    },
    {
      "cell_type": "code",
      "source": [
        "cat_cols_train = train_data.select_dtypes(include='object').columns\n",
        "cat_cols_test = test_data.select_dtypes(include='object').columns\n",
        "\n",
        "for col in cat_cols_train:\n",
        "  oe_train = OrdinalEncoder()\n",
        "  encoded_train_data[col] = oe_train.fit_transform(train_data[[col]])\n",
        "  oe_test = OrdinalEncoder()\n",
        "  encoded_test_data[col] = oe_test.fit_transform(test_data[[col]])\n",
        "  print(col)\n",
        "  print(oe_train.categories_)\n",
        "  print(oe_test.categories_)"
      ],
      "metadata": {
        "id": "WnMTk8wP2za4"
      },
      "execution_count": null,
      "outputs": []
    },
    {
      "cell_type": "code",
      "source": [
        "encoded_test_data.head(5)"
      ],
      "metadata": {
        "id": "_RElqyfV3t_h"
      },
      "execution_count": null,
      "outputs": []
    },
    {
      "cell_type": "code",
      "source": [
        "encoded_train_data.head(5)"
      ],
      "metadata": {
        "id": "yKilgdi530Hq"
      },
      "execution_count": null,
      "outputs": []
    },
    {
      "cell_type": "markdown",
      "source": [
        "Spliting Features and Target from Training Data"
      ],
      "metadata": {
        "id": "jF4QOp7W5Nxg"
      }
    },
    {
      "cell_type": "code",
      "source": [
        "X = encoded_train_data.drop(columns=['Item_Outlet_Sales'],axis=1)\n",
        "y = encoded_train_data['Item_Outlet_Sales']"
      ],
      "metadata": {
        "id": "M_puOpLB35dt"
      },
      "execution_count": null,
      "outputs": []
    },
    {
      "cell_type": "code",
      "source": [
        "X"
      ],
      "metadata": {
        "id": "dAxtca_l5aLf"
      },
      "execution_count": null,
      "outputs": []
    },
    {
      "cell_type": "markdown",
      "source": [
        "We are dealing with coninuous target varialbles So we are goining to use"
      ],
      "metadata": {
        "id": "V-eGr_f05sUK"
      }
    },
    {
      "cell_type": "code",
      "source": [
        "X_train, X_test, y_train, y_test = train_test_split(X, y, test_size = 0.20, random_state = 42)"
      ],
      "metadata": {
        "id": "pC7bLo19diL-"
      },
      "execution_count": null,
      "outputs": []
    },
    {
      "cell_type": "code",
      "source": [
        "print(X_train.shape)\n",
        "print(X_test.shape)\n",
        "print(y_train.shape)\n",
        "print(y_test.shape)"
      ],
      "metadata": {
        "id": "YugMAuH9dvVU"
      },
      "execution_count": null,
      "outputs": []
    },
    {
      "cell_type": "markdown",
      "source": [
        "# Linear Regression"
      ],
      "metadata": {
        "id": "qVk5xmUCd26B"
      }
    },
    {
      "cell_type": "code",
      "source": [
        "from sklearn.model_selection import train_test_split\n",
        "from sklearn.linear_model import LinearRegression\n",
        "lr = LinearRegression()\n",
        "lr.fit(X_train, y_train)\n",
        "lr_train = lr.predict(X_train)\n",
        "lr_test = lr.predict(X_test)"
      ],
      "metadata": {
        "id": "wljK9bDXd7Uf"
      },
      "execution_count": null,
      "outputs": []
    },
    {
      "cell_type": "code",
      "source": [
        "#Lets define a function for Model Evaluation\n",
        "from sklearn.metrics import mean_squared_error, r2_score\n",
        "def model_eval(actual, predicted):\n",
        "  rmse = np.sqrt(mean_squared_error(actual, predicted))\n",
        "  r2 = r2_score(actual, predicted)\n",
        "  print('The RMSE value for the model is: ', round(rmse,3))\n",
        "  print('The R2 Score for the model is: ', round(r2, 3))"
      ],
      "metadata": {
        "id": "N6kaKEX_eTj8"
      },
      "execution_count": null,
      "outputs": []
    },
    {
      "cell_type": "code",
      "source": [
        "model_eval(y_train, lr_train)"
      ],
      "metadata": {
        "id": "nx7paKn2e7Go"
      },
      "execution_count": null,
      "outputs": []
    },
    {
      "cell_type": "code",
      "source": [
        "model_eval(y_test, lr_test)"
      ],
      "metadata": {
        "id": "q4buVdwDfGdF"
      },
      "execution_count": null,
      "outputs": []
    },
    {
      "cell_type": "markdown",
      "source": [
        "# Random Forest Regressor"
      ],
      "metadata": {
        "id": "8xZMP6iA5nmr"
      }
    },
    {
      "cell_type": "code",
      "source": [
        "from sklearn.ensemble import RandomForestRegressor\n",
        "from sklearn.model_selection import cross_val_score\n",
        "from sklearn.model_selection import train_test_split\n",
        "from sklearn.metrics import mean_squared_error\n",
        "\n",
        "rf = RandomForestRegressor(n_estimators=100, random_state=42)\n",
        "rf1= rf.fit(X_train, y_train)\n",
        "cross_val_scores = cross_val_score(rf1, X, y, cv=5, scoring='r2')\n",
        "print(\"Cross-validation R-squared scores:\", cross_val_scores)\n",
        "print(\"Mean R-squared score:\", cross_val_scores.mean())"
      ],
      "metadata": {
        "id": "qlVpPcYm6HZc"
      },
      "execution_count": null,
      "outputs": []
    },
    {
      "cell_type": "markdown",
      "source": [
        "# Ada Boost Regression"
      ],
      "metadata": {
        "id": "IAZAzJKzfXEF"
      }
    },
    {
      "cell_type": "code",
      "source": [
        "from sklearn.ensemble import AdaBoostRegressor\n",
        "ada = AdaBoostRegressor()\n",
        "ada.fit(X_train, y_train)\n",
        "preds_ada_train = ada.predict(X_train)\n",
        "preds_ada_test = ada.predict(X_test)"
      ],
      "metadata": {
        "id": "27jrhfN-fmor"
      },
      "execution_count": null,
      "outputs": []
    },
    {
      "cell_type": "code",
      "source": [
        "model_eval(y_train, preds_ada_train)"
      ],
      "metadata": {
        "id": "sLJu2Gspf0Kw"
      },
      "execution_count": null,
      "outputs": []
    },
    {
      "cell_type": "code",
      "source": [
        "model_eval(y_test, preds_ada_test)"
      ],
      "metadata": {
        "id": "u7iUXBHhf2KI"
      },
      "execution_count": null,
      "outputs": []
    },
    {
      "cell_type": "markdown",
      "source": [
        "XGBRF Regressor"
      ],
      "metadata": {
        "id": "YrYtSiW167oS"
      }
    },
    {
      "cell_type": "markdown",
      "source": [],
      "metadata": {
        "id": "CJ9fduZF7PIl"
      }
    },
    {
      "cell_type": "code",
      "source": [
        "from xgboost import XGBRFRegressor\n",
        "\n",
        "xg =XGBRFRegressor(n_estimators=100, random_state=42)\n",
        "\n",
        "cross_val_scores = cross_val_score(xg, X, y, cv=5, scoring='r2')\n",
        "print(\"Cross-validation R-squared scores:\", cross_val_scores)\n",
        "print(\"Mean R-squared score:\", cross_val_scores.mean())"
      ],
      "metadata": {
        "id": "O7zgksgR7U2s"
      },
      "execution_count": null,
      "outputs": []
    },
    {
      "cell_type": "markdown",
      "source": [
        "XGBRF Regressor Feature Importance"
      ],
      "metadata": {
        "id": "3T5y3XVv8CU6"
      }
    },
    {
      "cell_type": "code",
      "source": [
        "xg =XGBRFRegressor(n_estimators=100, random_state=42)\n",
        "\n",
        "xg1 = xg.fit(X,y)\n",
        "\n",
        "feature_importances = pd.Series(xg1.feature_importances_, index=X.columns)\n",
        "feature_importances.sort_values(ascending=False).plot(kind='bar')\n",
        "plt.show()"
      ],
      "metadata": {
        "id": "DtFL3kVo8GxU"
      },
      "execution_count": null,
      "outputs": []
    },
    {
      "cell_type": "code",
      "source": [
        "encoded_train_data.head(2)"
      ],
      "metadata": {
        "id": "TPEa90zm-BoH"
      },
      "execution_count": null,
      "outputs": []
    },
    {
      "cell_type": "code",
      "source": [
        "# lets drop other columns\n",
        "# ['Item_Fat_Content', 'Item_Identifier','Item_Type', 'Item_Weight_interp' , 'Item_Visibility_interpolate' , 'Outlet_Location_Type'  ]"
      ],
      "metadata": {
        "id": "jn2i51Pm8G9C"
      },
      "execution_count": null,
      "outputs": []
    },
    {
      "cell_type": "code",
      "source": [
        "xg =XGBRFRegressor(n_estimators=100, random_state=42)\n",
        "\n",
        "cross_val_scores = cross_val_score(xg1, encoded_train_data.drop(columns=['Item_Fat_Content', 'Item_Identifier','Item_Type',\n",
        "                                                 'Item_Weight_interp' , 'Item_Visibility_interpolate' , 'Outlet_Location_Type','Item_Outlet_Sales'],axis=1),\n",
        "                                    y, cv=5, scoring='r2')\n",
        "print(\"Cross-validation R-squared scores:\", cross_val_scores)\n",
        "print(\"Mean R-squared score:\", cross_val_scores.mean())"
      ],
      "metadata": {
        "id": "aKyO0ivWAEP6"
      },
      "execution_count": null,
      "outputs": []
    },
    {
      "cell_type": "markdown",
      "source": [
        "# Gradient Boosting Regressor"
      ],
      "metadata": {
        "id": "h8KJiTxBgSmE"
      }
    },
    {
      "cell_type": "code",
      "source": [
        "from sklearn.ensemble import GradientBoostingRegressor"
      ],
      "metadata": {
        "id": "YgI2A1PLgQj1"
      },
      "execution_count": null,
      "outputs": []
    },
    {
      "cell_type": "code",
      "source": [
        "gb = GradientBoostingRegressor()\n",
        "gb.fit(X_train, y_train)\n",
        "preds_gb_train = gb.predict(X_train)\n",
        "preds_gb_test = gb.predict(X_test)"
      ],
      "metadata": {
        "id": "ihYbL8NOgX6M"
      },
      "execution_count": null,
      "outputs": []
    },
    {
      "cell_type": "code",
      "source": [
        "model_eval(y_train, preds_gb_train)"
      ],
      "metadata": {
        "id": "QFfhTH72gp6k"
      },
      "execution_count": null,
      "outputs": []
    },
    {
      "cell_type": "code",
      "source": [
        "model_eval(y_test,preds_gb_test )"
      ],
      "metadata": {
        "id": "eZynmh5Pgrsr"
      },
      "execution_count": null,
      "outputs": []
    },
    {
      "cell_type": "markdown",
      "source": [
        "# XG Boost Regressor"
      ],
      "metadata": {
        "id": "ViYvS7N5_IaT"
      }
    },
    {
      "cell_type": "code",
      "source": [
        "import xgboost as xg\n",
        "xgb = xg.XGBRegressor()"
      ],
      "metadata": {
        "id": "NkJvIWULg3EF"
      },
      "execution_count": null,
      "outputs": []
    },
    {
      "cell_type": "code",
      "source": [
        "xgb.fit(X_train, y_train)\n",
        "preds_xgb_train = xgb.predict(X_train)\n",
        "preds_xgb_test = xgb.predict(X_test)"
      ],
      "metadata": {
        "id": "avScosaXhC2_"
      },
      "execution_count": null,
      "outputs": []
    },
    {
      "cell_type": "code",
      "source": [
        "model_eval(y_train, preds_xgb_train)"
      ],
      "metadata": {
        "id": "EwAiirZBhExe"
      },
      "execution_count": null,
      "outputs": []
    },
    {
      "cell_type": "code",
      "source": [
        "model_eval(y_test, preds_xgb_test)"
      ],
      "metadata": {
        "id": "gAcLIZsDhG0u"
      },
      "execution_count": null,
      "outputs": []
    },
    {
      "cell_type": "markdown",
      "source": [],
      "metadata": {
        "id": "DItcUlpyhgWW"
      }
    },
    {
      "cell_type": "markdown",
      "source": [
        "TEST DATA APPLICATION"
      ],
      "metadata": {
        "id": "ydzXgiIBhg5_"
      }
    },
    {
      "cell_type": "code",
      "source": [
        "encoded_test_data.head(2)"
      ],
      "metadata": {
        "id": "8W7RvOEahlv6"
      },
      "execution_count": null,
      "outputs": []
    },
    {
      "cell_type": "code",
      "source": [
        "encoded_test_data['Item_Outlet_Sales'] = rf.predict(encoded_test_data)"
      ],
      "metadata": {
        "id": "aJcPyVkghyCM"
      },
      "execution_count": null,
      "outputs": []
    },
    {
      "cell_type": "code",
      "source": [
        "encoded_test_data.head()"
      ],
      "metadata": {
        "id": "EV_gAFEViyrh"
      },
      "execution_count": null,
      "outputs": []
    },
    {
      "cell_type": "code",
      "source": [
        "sample_submission = pd.read_csv('/content/sample_submission.csv')"
      ],
      "metadata": {
        "id": "QMmP4JWcjUc0"
      },
      "execution_count": null,
      "outputs": []
    },
    {
      "cell_type": "code",
      "source": [
        "sample_submission.head()"
      ],
      "metadata": {
        "id": "wUIGEKg_jdXF"
      },
      "execution_count": null,
      "outputs": []
    },
    {
      "cell_type": "code",
      "source": [
        "sample_submission['Item_Outlet_Sales'] = encoded_test_data['Item_Outlet_Sales']"
      ],
      "metadata": {
        "id": "7sWt1dSujo7O"
      },
      "execution_count": null,
      "outputs": []
    },
    {
      "cell_type": "code",
      "source": [
        "sample_submission.to_csv('Rohit_final_output.csv', index = False)"
      ],
      "metadata": {
        "id": "EXhe2rGEj1Ka"
      },
      "execution_count": null,
      "outputs": []
    },
    {
      "cell_type": "code",
      "source": [
        "subm = pd.read_csv('/content/Rohit_final_output.csv')"
      ],
      "metadata": {
        "id": "kkDC1dJmodU6"
      },
      "execution_count": null,
      "outputs": []
    },
    {
      "cell_type": "code",
      "source": [
        "subm"
      ],
      "metadata": {
        "id": "XcSqs5kGokzI"
      },
      "execution_count": null,
      "outputs": []
    },
    {
      "cell_type": "code",
      "source": [
        "subm['Item_Outlet_Sales'].describe()"
      ],
      "metadata": {
        "id": "TW90cUbbol89"
      },
      "execution_count": null,
      "outputs": []
    },
    {
      "cell_type": "code",
      "source": [],
      "metadata": {
        "id": "w2dQqJFlox49"
      },
      "execution_count": null,
      "outputs": []
    }
  ]
}